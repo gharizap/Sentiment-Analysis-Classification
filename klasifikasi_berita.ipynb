{
 "cells": [
  {
   "cell_type": "code",
   "execution_count": 97,
   "id": "d57dacea",
   "metadata": {},
   "outputs": [],
   "source": [
    "import pandas as pd\n",
    "from sklearn.feature_extraction.text import TfidfVectorizer\n",
    "from sklearn.model_selection import train_test_split\n",
    "from sklearn.naive_bayes import MultinomialNB\n",
    "from sklearn.metrics import accuracy_score, classification_report\n",
    "import nltk\n",
    "from nltk.tokenize import word_tokenize\n",
    "from nltk.corpus import stopwords\n",
    "from nltk.stem import PorterStemmer\n",
    "import re"
   ]
  },
  {
   "cell_type": "code",
   "execution_count": 98,
   "id": "3ff2a109",
   "metadata": {},
   "outputs": [
    {
     "name": "stderr",
     "output_type": "stream",
     "text": [
      "[nltk_data] Downloading package punkt to\n",
      "[nltk_data]     C:\\Users\\ghari\\AppData\\Roaming\\nltk_data...\n",
      "[nltk_data]   Package punkt is already up-to-date!\n",
      "[nltk_data] Downloading package stopwords to\n",
      "[nltk_data]     C:\\Users\\ghari\\AppData\\Roaming\\nltk_data...\n",
      "[nltk_data]   Package stopwords is already up-to-date!\n"
     ]
    },
    {
     "data": {
      "text/plain": [
       "True"
      ]
     },
     "execution_count": 98,
     "metadata": {},
     "output_type": "execute_result"
    }
   ],
   "source": [
    "nltk.download('punkt')\n",
    "nltk.download('stopwords')"
   ]
  },
  {
   "cell_type": "code",
   "execution_count": 99,
   "id": "02e64a4b",
   "metadata": {},
   "outputs": [],
   "source": [
    "data = pd.read_csv(\"data.csv\")"
   ]
  },
  {
   "cell_type": "code",
   "execution_count": 100,
   "id": "01c23afa",
   "metadata": {},
   "outputs": [],
   "source": [
    "data = data[['content', 'summary']] # Pilih kolom yang akan digunakan\n",
    "data = data.dropna() # Hapus baris dengan nilai null"
   ]
  },
  {
   "cell_type": "code",
   "execution_count": 101,
   "id": "22150466",
   "metadata": {},
   "outputs": [],
   "source": [
    "stop_words = set(stopwords.words('indonesian'))\n",
    "stemmer = PorterStemmer()"
   ]
  },
  {
   "cell_type": "code",
   "execution_count": 102,
   "id": "196cc75a",
   "metadata": {},
   "outputs": [],
   "source": [
    "# Tambahkan kata-kata yang merepresentasikan sentimen positif dan negatif\n",
    "positive_words = [\"kemenangan\", \"keberhasilan\", \"berhasil\", \"senang\", \"gemilang\", \"terpuji\", \"pembebasan\", \"kebahagiaan\", \"mudah\", \"mencapai\", \"juara\", \"sukses\", \"cemerlang\", \"menyenangkan\", \"optimis\", \"bergairah\", \"menang\", \"puas\", \"mengagumkan\", \"beruntung\", \"menonjol\", \"positif\", \"bangga\", \"berjaya\", \"maju\", \"terhormat\", \"menyenangkan\", \"bersemangat\", \"penuh harapan\", \"berkembang\"]\n",
    "negative_words = [\"krisis\", \"korupsi\", \"pembunuhan\", \"pemerkosaan\", \"pencurian\", \"pemerkosaan\", \"kegagalan\", \"masalah\", \"merugikan\", \"bencana\", \"kerugian\", \"mengerikan\", \"teror\", \"dosa\", \"penyakit\", \"kesedihan\", \"kemiskinan\", \"konflik\", \"ketakutan\", \"marah\", \"kejahatan\", \"negatif\", \"malapetaka\", \"menakutkan\", \"merusak\", \"menyedihkan\", \"frustrasi\", \"menghancurkan\", \"putus asa\", \"kecewa\", \"korban\",\"tersangka\",\"kasus\",\"kecelakaan\",\"kebakaran\"]"
   ]
  },
  {
   "cell_type": "code",
   "execution_count": 103,
   "id": "8f7142f4",
   "metadata": {},
   "outputs": [],
   "source": [
    "def preprocess_text(text):\n",
    "    tokens = word_tokenize(text.lower())  # Tokenisasi\n",
    "    filtered_tokens = [stemmer.stem(token) for token in tokens if token not in stop_words and re.match(\"^[a-zA-Z0-9]+$\", token)]  # Penghapusan stopword & stemming\n",
    "    return \" \".join(filtered_tokens)"
   ]
  },
  {
   "cell_type": "code",
   "execution_count": 104,
   "id": "2de30f27",
   "metadata": {},
   "outputs": [],
   "source": [
    "def categorize_sentiment(summary):\n",
    "    for word in positive_words:\n",
    "        if word in summary:\n",
    "            return 'positif'\n",
    "    for word in negative_words:\n",
    "        if word in summary:\n",
    "            return 'negatif'\n",
    "    return 'netral'"
   ]
  },
  {
   "cell_type": "code",
   "execution_count": 105,
   "id": "c56b4843",
   "metadata": {},
   "outputs": [],
   "source": [
    "data['processed_text'] = data['content'].apply(preprocess_text)"
   ]
  },
  {
   "cell_type": "code",
   "execution_count": 106,
   "id": "ff505ddc",
   "metadata": {},
   "outputs": [],
   "source": [
    "# Label data berdasarkan kata-kata sentimen\n",
    "data['label'] = data['summary'].apply(categorize_sentiment)"
   ]
  },
  {
   "cell_type": "code",
   "execution_count": 107,
   "id": "9a8e14d9",
   "metadata": {},
   "outputs": [],
   "source": [
    "# Pembagian data menjadi data latih dan data uji\n",
    "X_train, X_test, y_train, y_test = train_test_split(data['processed_text'], data['label'], test_size=0.2, random_state=42)"
   ]
  },
  {
   "cell_type": "code",
   "execution_count": 108,
   "id": "56c00e33",
   "metadata": {},
   "outputs": [],
   "source": [
    "vectorizer = TfidfVectorizer()\n",
    "X_train_tfidf = vectorizer.fit_transform(X_train)\n",
    "X_test_tfidf = vectorizer.transform(X_test)"
   ]
  },
  {
   "cell_type": "code",
   "execution_count": 109,
   "id": "ca9e442e",
   "metadata": {},
   "outputs": [
    {
     "data": {
      "text/plain": [
       "MultinomialNB()"
      ]
     },
     "execution_count": 109,
     "metadata": {},
     "output_type": "execute_result"
    }
   ],
   "source": [
    "model = MultinomialNB()\n",
    "model.fit(X_train_tfidf, y_train)"
   ]
  },
  {
   "cell_type": "code",
   "execution_count": 110,
   "id": "b9133fa9",
   "metadata": {},
   "outputs": [],
   "source": [
    "y_pred = model.predict(X_test_tfidf)"
   ]
  },
  {
   "cell_type": "code",
   "execution_count": 111,
   "id": "ea4ac7a8",
   "metadata": {},
   "outputs": [
    {
     "name": "stdout",
     "output_type": "stream",
     "text": [
      "Akurasi: 0.6027566981570389\n",
      "              precision    recall  f1-score   support\n",
      "\n",
      "     negatif       0.66      0.37      0.48      1416\n",
      "      netral       0.59      0.96      0.73      3349\n",
      "     positif       0.82      0.09      0.15      1692\n",
      "\n",
      "    accuracy                           0.60      6457\n",
      "   macro avg       0.69      0.47      0.45      6457\n",
      "weighted avg       0.67      0.60      0.52      6457\n",
      "\n"
     ]
    }
   ],
   "source": [
    "print(\"Akurasi:\", accuracy_score(y_test, y_pred))\n",
    "print(classification_report(y_test, y_pred))"
   ]
  },
  {
   "cell_type": "code",
   "execution_count": null,
   "id": "fdd1447b",
   "metadata": {},
   "outputs": [],
   "source": []
  }
 ],
 "metadata": {
  "kernelspec": {
   "display_name": "Python 3 (ipykernel)",
   "language": "python",
   "name": "python3"
  },
  "language_info": {
   "codemirror_mode": {
    "name": "ipython",
    "version": 3
   },
   "file_extension": ".py",
   "mimetype": "text/x-python",
   "name": "python",
   "nbconvert_exporter": "python",
   "pygments_lexer": "ipython3",
   "version": "3.9.13"
  }
 },
 "nbformat": 4,
 "nbformat_minor": 5
}
